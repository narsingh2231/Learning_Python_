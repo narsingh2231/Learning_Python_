{
  "nbformat": 4,
  "nbformat_minor": 0,
  "metadata": {
    "colab": {
      "provenance": [],
      "include_colab_link": true
    },
    "kernelspec": {
      "name": "python3",
      "display_name": "Python 3"
    },
    "language_info": {
      "name": "python"
    }
  },
  "cells": [
    {
      "cell_type": "markdown",
      "metadata": {
        "id": "view-in-github",
        "colab_type": "text"
      },
      "source": [
        "<a href=\"https://colab.research.google.com/github/narsingh2231/Learning_Python_/blob/main/1.CampusX/task_1.ipynb\" target=\"_parent\"><img src=\"https://colab.research.google.com/assets/colab-badge.svg\" alt=\"Open In Colab\"/></a>"
      ]
    },
    {
      "cell_type": "markdown",
      "source": [
        "##`Q-1:` Rectangle Class\n",
        "1. Write a Rectangle class in Python language, allowing you to build a rectangle with length and width attributes.\n",
        "\n",
        "2. Create a Perimeter() method to calculate the perimeter of the rectangle and a Area() method to calculate the area of ​​the rectangle.\n",
        "\n",
        "3. Create a method display() that display the length, width, perimeter and area of an object created using an instantiation on rectangle class."
      ],
      "metadata": {
        "id": "FyUJ3PRAsPr4"
      }
    },
    {
      "cell_type": "markdown",
      "source": [
        "Eg.\n",
        "After making above classes and methods, on executing below code:-\n",
        "```\n",
        "my_rectangle = Rectangle(3 , 4)\n",
        "my_rectangle.display()\n",
        "```\n",
        "\n",
        "`Output:`\n",
        "```\n",
        "The length of rectangle is:  3\n",
        "The width of rectangle is:  4\n",
        "The perimeter of rectangle is:  14\n",
        "The area of rectangle is:  12\n",
        "```\n"
      ],
      "metadata": {
        "id": "GxUtOqJfssFK"
      }
    },
    {
      "cell_type": "code",
      "source": [
        "class Rectangle:\n",
        "\n",
        "  def __init__(self, length, width):\n",
        "    self.length = length\n",
        "    self.width = width\n",
        "    #self.perimeter()\n",
        "    #self.area()\n",
        "    #self.display()\n",
        "\n",
        "  def perimeter(self):\n",
        "    return 2*(self.length + self.width)\n",
        "\n",
        "  def area(self):\n",
        "    return (self.length * self.width)\n",
        "\n",
        "  def display(self):\n",
        "\n",
        "    print('The length of rectangle is: ', self.length)\n",
        "    print('The width of rectangle is: ', self.width)\n",
        "    print('The perimeter of rectangle is: ', self.perimeter())\n",
        "    print('The area of rectangle is: ', self.area())\n"
      ],
      "metadata": {
        "id": "92_QT-Uj6NBg"
      },
      "execution_count": null,
      "outputs": []
    },
    {
      "cell_type": "code",
      "source": [
        "my_rectangle = Rectangle(3 , 9)\n",
        "my_rectangle.display()"
      ],
      "metadata": {
        "colab": {
          "base_uri": "https://localhost:8080/"
        },
        "id": "zF00bWyUPUlm",
        "outputId": "9945df0c-a123-4c61-f80f-25865000f3c7"
      },
      "execution_count": null,
      "outputs": [
        {
          "output_type": "stream",
          "name": "stdout",
          "text": [
            "The length of rectangle is:  3\n",
            "The width of rectangle is:  9\n",
            "The perimeter of rectangle is:  24\n",
            "The area of rectangle is:  27\n"
          ]
        }
      ]
    },
    {
      "cell_type": "markdown",
      "source": [
        "##`Q-2: Bank Class`\n",
        "\n",
        "1. Create a Python class called `BankAccount` which represents a bank account, having as attributes: `accountNumber` (numeric type), `name` (name of the account owner as string type), `balance`.\n",
        "2. Create a constructor with parameters: `accountNumber, name, balance`.\n",
        "3. Create a `Deposit()` method which manages the deposit actions.\n",
        "4. Create a `Withdrawal()` method  which manages withdrawals actions.\n",
        "5. Create an `bankFees()` method to apply the bank fees with a percentage of 5% of the balance account.\n",
        "6. Create a `display()` method to display account details.\n",
        "Give the complete code for the  BankAccount class."
      ],
      "metadata": {
        "id": "r_GxrS0Vrdom"
      }
    },
    {
      "cell_type": "markdown",
      "source": [
        "Eg.\n",
        "After making above classes and methods, on executing below code:-\n",
        "```\n",
        "newAccount = BankAccount(2178514584, \"Mandy\" , 2800)\n",
        "\n",
        "newAccount.Withdrawal(700)\n",
        "\n",
        "newAccount.Deposit(1000)\n",
        "\n",
        "newAccount.display()\n",
        "```\n",
        "\n",
        "`Output:`\n",
        "```\n",
        "Account Number :  2178514584\n",
        "Account Name :  Mandy\n",
        "Account Balance :  3100 ₹\n",
        "```"
      ],
      "metadata": {
        "id": "qvVkOUJgvTV_"
      }
    },
    {
      "cell_type": "code",
      "source": [
        "# write your code here\n",
        "class BankAccount:\n",
        "\n",
        "  def __init__(self, accountNumber, name, balance):\n",
        "    self.accountNumber = accountNumber\n",
        "    self.name = name\n",
        "    self.balance =  balance\n",
        "\n",
        "  def Deposit(self, deposit):\n",
        "    self.deposit = deposit\n",
        "    self.balance = self.balance + self.deposit\n",
        "\n",
        "  def Withdrawal(self, withdrow):\n",
        "    self.withdrow = withdrow\n",
        "    self.balance = self.balance - self.withdrow\n",
        "\n",
        "  def bankFees(self):\n",
        "    self.bankfees= (self.balance*0.05)\n",
        "    self.balance = self.balance - self.bankfees\n",
        "\n",
        "  def display(self):\n",
        "    print('Account Number :  ', self.accountNumber)\n",
        "    print('Account Name :  ', self.name)\n",
        "    print('Account Balance :  ', self.balance)\n",
        "    print('Bank fees deducted :  ', self.bankfees)\n"
      ],
      "metadata": {
        "id": "fUQOmQyA6YDR"
      },
      "execution_count": null,
      "outputs": []
    },
    {
      "cell_type": "code",
      "source": [
        "newAccount = BankAccount(2178514584, \"Mandy\" , 2800)\n",
        "\n",
        "newAccount.Withdrawal(700)\n",
        "\n",
        "newAccount.Deposit(1000)\n",
        "\n",
        "newAccount.bankFees()\n",
        "\n",
        "newAccount.display()"
      ],
      "metadata": {
        "colab": {
          "base_uri": "https://localhost:8080/"
        },
        "id": "5dt41HpVYAQb",
        "outputId": "9ad62586-6931-4843-c231-d9d63a3c01fa"
      },
      "execution_count": null,
      "outputs": [
        {
          "output_type": "stream",
          "name": "stdout",
          "text": [
            "Account Number :   2178514584\n",
            "Account Name :   Mandy\n",
            "Account Balance :   2945.0\n",
            "Bank fees deducted :   155.0\n"
          ]
        }
      ]
    },
    {
      "cell_type": "markdown",
      "source": [
        "##`Q-3:Computation class`\n",
        "\n",
        "1. Create a `Computation` class with a default constructor (without parameters) allowing to perform various calculations on integers numbers.\n",
        "2. Create a method called `Factorial()` which allows to calculate the factorial of an integer n. Integer n as parameter for this method\n",
        "\n",
        "3. Create a method called `naturalSum()` allowing to calculate the sum of the first n integers 1 + 2 + 3 + .. + n. Integer n as parameter for this method.\n",
        "\n",
        "4. Create a method called `testPrime()` in  the Calculation class to test the primality of a given integer n, n is Prime or Not? Integer n as parameter for this method.\n",
        "\n",
        "5. Create  a method called `testPrims()` allowing to test if two numbers are prime between them. Two integers are prime to one another if they have only `1` as their common divisor. Eg. 4 and 9 are prime to each other.\n",
        "\n",
        "5. Create a `tableMult()` method which creates and displays the multiplication table of a given integer. Then create an `allTablesMult()` method to display all the integer multiplication tables 1, 2, 3, ..., 9.\n",
        "\n",
        "6. Create a static `listDiv()` method that gets all the divisors of a given integer on new list called  Ldiv. Create another `listDivPrim()` method that gets all the prime divisors of a given integer."
      ],
      "metadata": {
        "id": "QovcQAZTrgGU"
      }
    },
    {
      "cell_type": "code",
      "source": [
        "class Computation:\n",
        "\n",
        "  def __init__(self):\n",
        "    self.num = ''\n",
        "\n",
        "  def factorial(self, num):\n",
        "    self.num = num\n",
        "    if self.num == 0:\n",
        "        return 1\n",
        "    else:\n",
        "        return (self.num * self.factorial(self.num-1))\n",
        "\n",
        "  def naturalSum(self, num):\n",
        "    self.num = num\n",
        "    if self.num == 0:\n",
        "      print(\"it is Zero\")\n",
        "    elif self.num<0:\n",
        "      print(\"negative numbers are not natural\")\n",
        "    else:\n",
        "      print((self.num * (self.num + 1))//2)\n",
        "\n",
        "  def testPrime(self, num):\n",
        "    self.num = num\n",
        "    if ((self.num ==2) or (self.num==3) or (self.num ==5)):\n",
        "      print(\"it is a prime number\")\n",
        "    elif((((self.num%2) != 0) and ((self.num%3)!= 0) and ((self.num%5) != 0))):\n",
        "      print(\"it is a prime number\")\n",
        "    else:\n",
        "      print(\"This is not a prime number\")\n",
        "\n",
        "  def testPrims(self, num1, num2):\n",
        "    self.num1 = num1\n",
        "    self.num2 = num2\n",
        "    for num in range(self.num1,self.num2):\n",
        "      if ((num ==2) or (num==3) or (num== 5)):\n",
        "        print(num , end =\" \")\n",
        "      elif ((((num%2) != 0) and ((num%3)!= 0) and ((num%5) != 0))):           # It should be divisible by 2 or 3 or 5\n",
        "        print(num, end =\" \")\n",
        "\n",
        "  def tableMult(self, num):\n",
        "    self.num = num\n",
        "    for i in range(0,10):\n",
        "      i +=1\n",
        "      print(i* self.num)\n",
        "\n",
        "  def allTablesMult(self):\n",
        "    for i in range(1,11):\n",
        "      for j in range(1,11):\n",
        "        print(i*j, end = \"  \")\n",
        "\n",
        "cal = Computation()"
      ],
      "metadata": {
        "id": "YEkPH70l6Z-o"
      },
      "execution_count": null,
      "outputs": []
    },
    {
      "cell_type": "code",
      "source": [
        "cal.factorial(6)\n",
        "cal.naturalSum(4)\n",
        "cal.testPrime(4)\n",
        "cal.testPrims(2,13)\n",
        "cal.tableMult(5)\n",
        "cal.allTablesMult()"
      ],
      "metadata": {
        "colab": {
          "base_uri": "https://localhost:8080/"
        },
        "id": "VRuUn-fmHfdc",
        "outputId": "869700e8-34a0-4373-b99f-840d7eca6ef7"
      },
      "execution_count": null,
      "outputs": [
        {
          "output_type": "stream",
          "name": "stdout",
          "text": [
            "10\n",
            "This is not a prime number\n",
            "2 3 5 7 11 5\n",
            "10\n",
            "15\n",
            "20\n",
            "25\n",
            "30\n",
            "35\n",
            "40\n",
            "45\n",
            "50\n",
            "1  2  3  4  5  6  7  8  9  10  2  4  6  8  10  12  14  16  18  20  3  6  9  12  15  18  21  24  27  30  4  8  12  16  20  24  28  32  36  40  5  10  15  20  25  30  35  40  45  50  6  12  18  24  30  36  42  48  54  60  7  14  21  28  35  42  49  56  63  70  8  16  24  32  40  48  56  64  72  80  9  18  27  36  45  54  63  72  81  90  10  20  30  40  50  60  70  80  90  100  "
          ]
        }
      ]
    },
    {
      "cell_type": "markdown",
      "source": [
        "##`Q-4`: Build flashcard using class in Python.\n",
        "\n",
        "Build a flashcard using class in python. A flashcard is a card having information on both sides, which can be used as an aid in memoization. Flashcards usually have a question on one side and an answer on the other.\n",
        "\n",
        "**Example 1:**\n",
        "\n",
        "Approach:\n",
        "\n",
        "- Create a class named FlashCard.\n",
        "- Initialize dictionary fruits using __init__() method. Here you have to define fruit name as key and it's color as value. E.g., {\"Banana\": \"yellow\", \"Strawberries\": \"pink\"}\n",
        "- Now randomly choose a pair from fruits by using _random_ module and store the key in variable _fruit_ and _value_ in variable color.\n",
        "- Now prompt the user to answer the color of the randomly chosen fruit.\n",
        "- If correct print correct else print wrong.\n",
        "\n",
        "Output:\n",
        "```bash\n",
        "welcome to fruit quiz\n",
        "What is the color of Strawberries\n",
        "pink\n",
        "Correct answer\n",
        "Enter 0, if you want to play again: 0\n",
        "What is the color of watermelon\n",
        "green\n",
        "Correct answer\n",
        "Enter 0, if you want to play again: 1\n",
        "```"
      ],
      "metadata": {
        "id": "0yn23_oEriXa"
      }
    },
    {
      "cell_type": "code",
      "source": [
        "# write your code here\n",
        "import random\n",
        "class FlashCard:\n",
        "\n",
        "  def __init__(self):\n",
        "    print(\"welcome to fruit quiz\")\n",
        "    self.random = random\n",
        "    self.dct = {'banana' : 'yelow', 'watermelon' :'green', 'apple':'red', 'straberry': 'red', 'gwava': 'green', 'mango':'yelow'}\n",
        "    self.play()\n",
        "\n",
        "  def play(self):\n",
        "    self.frt = self.random.choice(list(self.dct))\n",
        "    self.color = self.dct.get(self.frt)\n",
        "    print('What is the color of {}' .format(self.frt))\n",
        "    self.user_color = input('please enter the color here: ')\n",
        "    if (self.user_color == self.color):\n",
        "      print('Correct answer')\n",
        "    else:\n",
        "      print('wrong answer')\n",
        "    self.num = input('Enter 0, if you want to play again:')\n",
        "    if (self.num == '0'):\n",
        "      self.play()\n",
        "    else:\n",
        "      pass"
      ],
      "metadata": {
        "id": "vCrUF6VU6l6w"
      },
      "execution_count": null,
      "outputs": []
    },
    {
      "cell_type": "code",
      "source": [
        "card = FlashCard()\n"
      ],
      "metadata": {
        "colab": {
          "base_uri": "https://localhost:8080/"
        },
        "id": "t9ltkk5kaiVq",
        "outputId": "930018dc-498c-43ee-aa88-d0216af0959f"
      },
      "execution_count": null,
      "outputs": [
        {
          "name": "stdout",
          "output_type": "stream",
          "text": [
            "welcome to fruit quiz\n",
            "What is the color of apple\n",
            "please enter the color here: red\n",
            "Correct answer\n",
            "Enter 0, if you want to play again:1\n"
          ]
        }
      ]
    },
    {
      "cell_type": "code",
      "source": [],
      "metadata": {
        "id": "Fy-LhWuZbMir"
      },
      "execution_count": null,
      "outputs": []
    },
    {
      "cell_type": "markdown",
      "source": [
        "## `Q-5:` Problem 5 based on OOP Python.\n",
        "\n",
        "TechWorld, a technology training center, wants to allocate courses for instructors. An instructor is identified by name, technology skills, experience and average feedback. An instructor is allocated a course, if he/she satisfies the below two conditions:\n",
        "- eligibility criteria:\n",
        "    - if experience is more than 3 years, average feedback should be 4.5 or more\n",
        "    - if experience is 3 years or less, average feedback should be 4 or more\n",
        "- he/she should posses the technology skill for the course\n",
        "\n",
        "Identify the class name and attributes to represent instructors. Write a Python program to implement the class chosen with its attributes and methods.\n",
        "\n",
        "**Note:**\n",
        "- Consider all instance variables to be private and methods to be public.\n",
        "- An instructor may have multiple technology skills, so consider instance variable, technology_skill to be a list.\n",
        "- *check_eligibility()*: Return true if eligibility criteria is satisfied by the instructor. Else, return false\n",
        "- *allocate_course(technology)*: Return true if the course which requires the given technology can be allocated to the instructor. Else, return false.\n",
        "\n",
        "Represent a few objects of the class, initialize instance variables using setter methods, invoke\n",
        "appropriate methods and test your program."
      ],
      "metadata": {
        "id": "GN2r0jbRewYr"
      }
    },
    {
      "cell_type": "code",
      "source": [
        "# write your code here\n",
        "class TechWorld:\n",
        "\n",
        "  def __init__(self):\n",
        "    self.name = ''\n",
        "    self.skills = []\n",
        "    self.exp = ''\n",
        "    self.feedback = ''\n",
        "    self.data = []\n",
        "\n",
        "  def newInstructer(self, name, skills, exp, feedback):\n",
        "    self.name = name\n",
        "    self.skills = skills\n",
        "    self.exp = exp\n",
        "    self.feedback = feedback\n",
        "    self.data.append((self.name ,[self.skills], self.exp, self.feedback))\n",
        "    return self.data\n",
        "\n"
      ],
      "metadata": {
        "id": "pdMFuVFnlvKL"
      },
      "execution_count": null,
      "outputs": []
    },
    {
      "cell_type": "code",
      "source": [
        "tw = TechWorld()"
      ],
      "metadata": {
        "id": "ZhTwoJb5jnuA"
      },
      "execution_count": null,
      "outputs": []
    },
    {
      "cell_type": "code",
      "source": [
        "skil = ['python', 'SQL', 'PowerBI']\n",
        "tw.newInstructer('Narsingh', skil, 4.5, 4.5)\n"
      ],
      "metadata": {
        "id": "1RX5nYGkjv9k",
        "outputId": "3020382d-c7ad-442e-e9b3-ccab537a9b49",
        "colab": {
          "base_uri": "https://localhost:8080/"
        }
      },
      "execution_count": null,
      "outputs": [
        {
          "output_type": "execute_result",
          "data": {
            "text/plain": [
              "[('Narsingh', [['python', 'SQL', 'PowerBI']], 4.5, 4.5),\n",
              " ('Narsingh', [('python', 'SQL', 'PowerBI')], 4.5, 4.5),\n",
              " ('Ram', ['excel'], 6, 4),\n",
              " ('Narsingh', [['python', 'SQL', 'PowerBI']], 4.5, 4.5)]"
            ]
          },
          "metadata": {},
          "execution_count": 53
        }
      ]
    },
    {
      "cell_type": "code",
      "source": [
        "tw.newInstructer(\"Ram\", \"excel\", 6, 4)"
      ],
      "metadata": {
        "id": "4vmlTdZtnkmg",
        "outputId": "d02b6dc1-ca08-42cb-f742-6dbc11487233",
        "colab": {
          "base_uri": "https://localhost:8080/"
        }
      },
      "execution_count": null,
      "outputs": [
        {
          "output_type": "execute_result",
          "data": {
            "text/plain": [
              "[('Narsingh', [['python', 'SQL', 'PowerBI']], 4.5, 4.5),\n",
              " ('Narsingh', [('python', 'SQL', 'PowerBI')], 4.5, 4.5),\n",
              " ('Ram', ['excel'], 6, 4)]"
            ]
          },
          "metadata": {},
          "execution_count": 40
        }
      ]
    },
    {
      "cell_type": "code",
      "source": [
        "tw.data[2][1][0][1]"
      ],
      "metadata": {
        "id": "2XJOGP8FkDnj",
        "outputId": "3894b241-5c59-4b2f-c62e-a9b1950dfadf",
        "colab": {
          "base_uri": "https://localhost:8080/",
          "height": 35
        }
      },
      "execution_count": null,
      "outputs": [
        {
          "output_type": "execute_result",
          "data": {
            "text/plain": [
              "'x'"
            ],
            "application/vnd.google.colaboratory.intrinsic+json": {
              "type": "string"
            }
          },
          "metadata": {},
          "execution_count": 52
        }
      ]
    },
    {
      "cell_type": "code",
      "source": [
        "['python', 'SQL', 'PowerBI'] == 'python'"
      ],
      "metadata": {
        "id": "MEpibXwikp5M",
        "outputId": "c9dcf40e-aa6e-4bcc-ec25-bc51583629d8",
        "colab": {
          "base_uri": "https://localhost:8080/"
        }
      },
      "execution_count": null,
      "outputs": [
        {
          "output_type": "execute_result",
          "data": {
            "text/plain": [
              "False"
            ]
          },
          "metadata": {},
          "execution_count": 45
        }
      ]
    },
    {
      "cell_type": "code",
      "source": [
        "class Instructor:\n",
        "    def __init__(self, name, skills, experience, feedback):\n",
        "        self.__name = name\n",
        "        self.__skills = skills\n",
        "        self.__experience = experience\n",
        "        self.__feedback = feedback\n",
        "\n",
        "    def check_eligibility(self):\n",
        "        if self.__experience > 3 and self.__feedback >= 4.5:\n",
        "            return True\n",
        "        elif self.__experience <= 3 and self.__feedback >= 4:\n",
        "            return True\n",
        "        else:\n",
        "            return False\n",
        "\n",
        "    def allocate_course(self, technology):\n",
        "        if technology in self.__skills:\n",
        "            return True\n",
        "        else:\n",
        "            return False\n",
        "\n",
        "    def get_name(self):\n",
        "        return self.__name\n",
        "\n",
        "    def get_skills(self):\n",
        "        return self.__skills\n",
        "\n",
        "    def get_experience(self):\n",
        "        return self.__experience\n",
        "\n",
        "    def get_feedback(self):\n",
        "        return self.__feedback\n",
        "\n",
        "    def set_name(self, name):\n",
        "        self.__name = name\n",
        "\n",
        "    def set_skills(self, skills):\n",
        "        self.__skills = skills\n",
        "\n",
        "    def set_experience(self, experience):\n",
        "        self.__experience = experience\n",
        "\n",
        "    def set_feedback(self, feedback):\n",
        "        self.__feedback = feedback\n",
        "\n"
      ],
      "metadata": {
        "id": "YZ9tLalUocQa"
      },
      "execution_count": null,
      "outputs": []
    },
    {
      "cell_type": "code",
      "source": [
        "\n",
        "# Create instances and test the program\n",
        "instructor1 = Instructor(\"John Doe\", \"Java\", 5, 4.8)\n",
        "instructor2 = Instructor(\"Jane Smith\", [\"JavaScript\", \"CSS\", \"React\"], 2, 4.2)\n"
      ],
      "metadata": {
        "id": "0rTGQ5Ktr1BN"
      },
      "execution_count": null,
      "outputs": []
    },
    {
      "cell_type": "code",
      "source": [
        "# Display instructor information\n",
        "print(\"Instructor 1:\")\n",
        "print(\"Name:\", instructor1.get_name())\n",
        "print(\"Skills:\", instructor1.get_skills())\n",
        "print(\"Experience:\", instructor1.get_experience())\n",
        "print(\"Feedback:\", instructor1.get_feedback())\n",
        "print()\n",
        "\n",
        "print(\"Instructor 2:\")\n",
        "print(\"Name:\", instructor2.get_name())\n",
        "print(\"Skills:\", instructor2.get_skills())\n",
        "print(\"Experience:\", instructor2.get_experience())\n",
        "print(\"Feedback:\", instructor2.get_feedback())\n",
        "print()\n"
      ],
      "metadata": {
        "id": "-oMXWvHJr5u7",
        "outputId": "ababbe10-7266-4ef3-a39a-c83abb120750",
        "colab": {
          "base_uri": "https://localhost:8080/"
        }
      },
      "execution_count": null,
      "outputs": [
        {
          "output_type": "stream",
          "name": "stdout",
          "text": [
            "Instructor 1:\n",
            "Name: John Doe\n",
            "Skills: Java\n",
            "Experience: 5\n",
            "Feedback: 4.8\n",
            "\n",
            "Instructor 2:\n",
            "Name: Jane Smith\n",
            "Skills: ['JavaScript', 'CSS', 'React']\n",
            "Experience: 2\n",
            "Feedback: 4.2\n",
            "\n"
          ]
        }
      ]
    },
    {
      "cell_type": "code",
      "source": [
        "# Check eligibility and allocate courses\n",
        "print(\"Instructor 1 Eligibility:\", instructor1.check_eligibility())\n",
        "print(\"Instructor 1 Course Allocation:\", instructor1.allocate_course(\"Java\"))\n",
        "print()\n",
        "\n",
        "print(\"Instructor 2 Eligibility:\", instructor2.check_eligibility())\n",
        "print(\"Instructor 2 Course Allocation:\", instructor2.allocate_course(\"Java\"))\n"
      ],
      "metadata": {
        "id": "Sm38MtlGr8o3",
        "outputId": "8c7c4015-0c17-415a-f569-1ad91a003740",
        "colab": {
          "base_uri": "https://localhost:8080/"
        }
      },
      "execution_count": null,
      "outputs": [
        {
          "output_type": "stream",
          "name": "stdout",
          "text": [
            "Instructor 1 Eligibility: True\n",
            "Instructor 1 Course Allocation: True\n",
            "\n",
            "Instructor 2 Eligibility: True\n",
            "Instructor 2 Course Allocation: False\n"
          ]
        }
      ]
    },
    {
      "cell_type": "code",
      "source": [
        "class Instructor:\n",
        "    def __init__(self, name, skills, experience, feedback):\n",
        "        self.__name = name\n",
        "        self.__skills = skills\n",
        "        self.__experience = experience\n",
        "        self.__feedback = feedback\n",
        "\n",
        "    def check_eligibility(self):\n",
        "        if self.__experience > 3 and self.__feedback >= 4.5:\n",
        "            return True\n",
        "        elif self.__experience <= 3 and self.__feedback >= 4:\n",
        "            return True\n",
        "        else:\n",
        "            return False\n",
        "\n",
        "    def allocate_course(self, technology):\n",
        "        if technology in self.__skills:\n",
        "            return True\n",
        "        else:\n",
        "            return False\n",
        "\n",
        "    def get_name(self):\n",
        "        return self.__name\n",
        "\n",
        "    def get_skills(self):\n",
        "        return self.__skills\n",
        "\n",
        "    def get_experience(self):\n",
        "        return self.__experience\n",
        "\n",
        "    def get_feedback(self):\n",
        "        return self.__feedback\n",
        "\n",
        "    def set_name(self, name):\n",
        "        self.__name = name\n",
        "\n",
        "    def set_skills(self, skills):\n",
        "        self.__skills = skills\n",
        "\n",
        "    def set_experience(self, experience):\n",
        "        self.__experience = experience\n",
        "\n",
        "    def set_feedback(self, feedback):\n",
        "        self.__feedback = feedback\n",
        "\n",
        "\n",
        "# Create a list to store instructors\n",
        "instructors = []\n",
        "\n",
        "# Get the number of instructors from the user\n",
        "n = int(input(\"Enter the number of instructors: \"))\n",
        "\n",
        "# Iterate over the range of instructors to collect details\n",
        "for i in range(n):\n",
        "    print(f\"\\nInstructor {i+1}:\")\n",
        "    name = input(\"Enter the instructor's name: \")\n",
        "    skills = input(\"Enter the instructor's skills (comma-separated): \").split(\",\")\n",
        "    experience = int(input(\"Enter the instructor's experience (in years): \"))\n",
        "    feedback = float(input(\"Enter the instructor's average feedback: \"))\n",
        "\n",
        "    instructor = Instructor(name, skills, experience, feedback)\n",
        "    instructors.append(instructor)\n",
        "\n",
        "# Display instructor information\n",
        "for i, instructor in enumerate(instructors):\n",
        "    print(f\"\\nInstructor {i+1}:\")\n",
        "    print(\"Name:\", instructor.get_name())\n",
        "    print(\"Skills:\", instructor.get_skills())\n",
        "    print(\"Experience:\", instructor.get_experience())\n",
        "    print(\"Feedback:\", instructor.get_feedback())\n",
        "    print(\"Eligible:\", instructor.check_eligibility())\n"
      ],
      "metadata": {
        "id": "Fs4Oi1vUsc4K",
        "outputId": "587e6999-fb3b-435d-ffaf-306b4f38925f",
        "colab": {
          "base_uri": "https://localhost:8080/"
        }
      },
      "execution_count": null,
      "outputs": [
        {
          "output_type": "stream",
          "name": "stdout",
          "text": [
            "Enter the number of instructors: 3\n",
            "\n",
            "Instructor 1:\n",
            "Enter the instructor's name: narsingh\n",
            "Enter the instructor's skills (comma-separated): python,sql,java\n",
            "Enter the instructor's experience (in years): 4\n",
            "Enter the instructor's average feedback: 4.5\n",
            "\n",
            "Instructor 2:\n",
            "Enter the instructor's name: ram\n",
            "Enter the instructor's skills (comma-separated): excel\n",
            "Enter the instructor's experience (in years): 6\n",
            "Enter the instructor's average feedback: 3\n",
            "\n",
            "Instructor 3:\n",
            "Enter the instructor's name: adesh\n",
            "Enter the instructor's skills (comma-separated): python,java,azure\n",
            "Enter the instructor's experience (in years): 3\n",
            "Enter the instructor's average feedback: 4.5\n",
            "\n",
            "Instructor 1:\n",
            "Name: narsingh\n",
            "Skills: ['python', 'sql', 'java']\n",
            "Experience: 4\n",
            "Feedback: 4.5\n",
            "Eligible: True\n",
            "\n",
            "Instructor 2:\n",
            "Name: ram\n",
            "Skills: ['excel']\n",
            "Experience: 6\n",
            "Feedback: 3.0\n",
            "Eligible: False\n",
            "\n",
            "Instructor 3:\n",
            "Name: adesh\n",
            "Skills: ['python', 'java', 'azure']\n",
            "Experience: 3\n",
            "Feedback: 4.5\n",
            "Eligible: True\n"
          ]
        }
      ]
    },
    {
      "cell_type": "code",
      "source": [],
      "metadata": {
        "id": "O_QbWSj_uJ_-",
        "outputId": "0cd96005-cca2-4547-da64-d22b8d3ccb78",
        "colab": {
          "base_uri": "https://localhost:8080/",
          "height": 35
        }
      },
      "execution_count": null,
      "outputs": [
        {
          "output_type": "execute_result",
          "data": {
            "text/plain": [
              "'c'"
            ],
            "application/vnd.google.colaboratory.intrinsic+json": {
              "type": "string"
            }
          },
          "metadata": {},
          "execution_count": 85
        }
      ]
    },
    {
      "cell_type": "code",
      "source": [],
      "metadata": {
        "id": "YY9wvZPdvIYs",
        "outputId": "e5e54a89-d9a1-47a7-922d-98e26dcd6d4a",
        "colab": {
          "base_uri": "https://localhost:8080/"
        }
      },
      "execution_count": null,
      "outputs": [
        {
          "output_type": "execute_result",
          "data": {
            "text/plain": [
              "<__main__.TechWorld at 0x7fd5fea025f0>"
            ]
          },
          "metadata": {},
          "execution_count": 77
        }
      ]
    },
    {
      "cell_type": "code",
      "source": [],
      "metadata": {
        "id": "bM2hAOy7v6Tn"
      },
      "execution_count": null,
      "outputs": []
    }
  ]
}