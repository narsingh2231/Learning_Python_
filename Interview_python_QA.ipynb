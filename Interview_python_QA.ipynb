{
  "nbformat": 4,
  "nbformat_minor": 0,
  "metadata": {
    "colab": {
      "provenance": [],
      "authorship_tag": "ABX9TyNvZ7UU3lYwszXLDIlVVPCX",
      "include_colab_link": true
    },
    "kernelspec": {
      "name": "python3",
      "display_name": "Python 3"
    },
    "language_info": {
      "name": "python"
    }
  },
  "cells": [
    {
      "cell_type": "markdown",
      "metadata": {
        "id": "view-in-github",
        "colab_type": "text"
      },
      "source": [
        "<a href=\"https://colab.research.google.com/github/narsingh2231/Learning_Python_/blob/main/Interview_python_QA.ipynb\" target=\"_parent\"><img src=\"https://colab.research.google.com/assets/colab-badge.svg\" alt=\"Open In Colab\"/></a>"
      ]
    },
    {
      "cell_type": "code",
      "execution_count": 1,
      "metadata": {
        "id": "Sr3pA1W4ad2f"
      },
      "outputs": [],
      "source": [
        "# any three ways to reverse a string in python"
      ]
    },
    {
      "cell_type": "code",
      "source": [
        "s = \"narsingh\"\n",
        "print(s[::-1])"
      ],
      "metadata": {
        "colab": {
          "base_uri": "https://localhost:8080/"
        },
        "id": "KUrQub3KatSj",
        "outputId": "9afa7e68-a5de-4743-aa72-76484edb9829"
      },
      "execution_count": 4,
      "outputs": [
        {
          "output_type": "stream",
          "name": "stdout",
          "text": [
            "hgnisran\n"
          ]
        }
      ]
    },
    {
      "cell_type": "code",
      "source": [
        "s = 'narsingh'\n",
        "result = \"\".join(reversed(s))\n",
        "print(result)"
      ],
      "metadata": {
        "colab": {
          "base_uri": "https://localhost:8080/"
        },
        "id": "AHNN1Uo3a1mr",
        "outputId": "abac4c9f-97d4-4de8-f28d-4d7621f889a1"
      },
      "execution_count": 5,
      "outputs": [
        {
          "output_type": "stream",
          "name": "stdout",
          "text": [
            "hgnisran\n"
          ]
        }
      ]
    },
    {
      "cell_type": "code",
      "source": [
        "# write a program to display calender\n",
        "import calendar\n",
        "\n",
        "month = 7\n",
        "year = 2023\n",
        "\n",
        "print(calendar.month(year, month))"
      ],
      "metadata": {
        "colab": {
          "base_uri": "https://localhost:8080/"
        },
        "id": "Uh_V_UrScLkV",
        "outputId": "25b47f90-1c3f-4181-dd6f-38b3733c7994"
      },
      "execution_count": 10,
      "outputs": [
        {
          "output_type": "stream",
          "name": "stdout",
          "text": [
            "     July 2023\n",
            "Mo Tu We Th Fr Sa Su\n",
            "                1  2\n",
            " 3  4  5  6  7  8  9\n",
            "10 11 12 13 14 15 16\n",
            "17 18 19 20 21 22 23\n",
            "24 25 26 27 28 29 30\n",
            "31\n",
            "\n"
          ]
        }
      ]
    },
    {
      "cell_type": "code",
      "source": [
        "# write a program to check number is odd or even\n",
        "num1 = int(input('please input a number:' ))\n",
        "if (num1 % 2 == 0):\n",
        "  print(\"this is even number\")\n",
        "\n",
        "else:\n",
        "  print(\"it's odd number\")\n"
      ],
      "metadata": {
        "colab": {
          "base_uri": "https://localhost:8080/"
        },
        "id": "LnXP6Cjhcj0f",
        "outputId": "1d013fef-4a0e-4ebf-88d9-24a5ad3d17d5"
      },
      "execution_count": 14,
      "outputs": [
        {
          "output_type": "stream",
          "name": "stdout",
          "text": [
            "please input a number:6\n",
            "this is even number\n"
          ]
        }
      ]
    },
    {
      "cell_type": "code",
      "source": [
        "# write a program to check a prime number\n",
        "\n",
        "num1  = int(input(\"Please enter a number:\"))\n",
        "if (num1 == 2) and (num1 == 3) and (num1 == 5):\n",
        "  print(\"it's a prime number\")\n",
        "elif (((num1 %2)!=0) and ((num1 %3)!=0) and ((num1 %5)!=0)):\n",
        "  print(\"it's a prime number\")\n",
        "else:\n",
        "  print(\"it's not a prime number\")\n"
      ],
      "metadata": {
        "colab": {
          "base_uri": "https://localhost:8080/"
        },
        "id": "TRDSex-aeLza",
        "outputId": "4fdad7c9-7c4a-40a0-f55b-5f77aa13a21e"
      },
      "execution_count": 15,
      "outputs": [
        {
          "output_type": "stream",
          "name": "stdout",
          "text": [
            "Please enter a number:67\n",
            "it's a prime number\n"
          ]
        }
      ]
    },
    {
      "cell_type": "code",
      "source": [
        "# write python program to find a factorial of a number\n",
        "\n",
        "def factorial(num1):\n",
        "  if num1 == 1:\n",
        "    return 1\n",
        "  else:\n",
        "    return num1 * factorial(num1-1)\n",
        "\n",
        "num1 = int(input('please enter the number: '))\n",
        "if num1<0:\n",
        "  print('please enter a positive number')\n",
        "else:\n",
        "  print(factorial(num1))"
      ],
      "metadata": {
        "colab": {
          "base_uri": "https://localhost:8080/"
        },
        "id": "zUizkmIif4tF",
        "outputId": "cfc52201-696e-4401-9451-8d60ef789839"
      },
      "execution_count": 19,
      "outputs": [
        {
          "output_type": "stream",
          "name": "stdout",
          "text": [
            "please enter the number: 4\n",
            "24\n"
          ]
        }
      ]
    },
    {
      "cell_type": "code",
      "source": [
        "# write a program to print fibonacci series\n",
        "\n",
        "num = int(input('please enter a number'))\n",
        "num2  = 1\n",
        "num3 = 0\n",
        "cnt = 1\n",
        "\n",
        "while(cnt <= num):\n",
        "  print(num3)\n",
        "  cnt += 1\n",
        "  num1 = num2\n",
        "  num2 = num3\n",
        "  num3 = num1 + num3"
      ],
      "metadata": {
        "colab": {
          "base_uri": "https://localhost:8080/"
        },
        "id": "nNlm_sYTh68_",
        "outputId": "ebfa0b25-988b-4a93-984c-4ac2edd6aecb"
      },
      "execution_count": 21,
      "outputs": [
        {
          "output_type": "stream",
          "name": "stdout",
          "text": [
            "please enter a number5\n",
            "0\n",
            "1\n",
            "1\n",
            "2\n",
            "3\n"
          ]
        }
      ]
    },
    {
      "cell_type": "code",
      "source": [
        "def fibonacci(n):\n",
        "    if n <= 0:\n",
        "        return []\n",
        "    elif n == 1:\n",
        "        return [0]\n",
        "    elif n == 2:\n",
        "        return [0, 1]\n",
        "    else:\n",
        "        series = fibonacci(n - 1)\n",
        "        series.append(series[-1] + series[-2])\n",
        "        return series\n",
        "\n",
        "# Input the number of Fibonacci numbers you want to generate\n",
        "num_terms = int(input(\"Enter the number of Fibonacci terms to generate: \"))\n",
        "\n",
        "fib_series = fibonacci(num_terms)\n",
        "print(\"Fibonacci Series:\")\n",
        "print(fib_series)\n"
      ],
      "metadata": {
        "colab": {
          "base_uri": "https://localhost:8080/"
        },
        "id": "y-ZjlSTkjL-C",
        "outputId": "ee88335a-06b2-4022-96f1-ce6b4bca4d97"
      },
      "execution_count": 22,
      "outputs": [
        {
          "output_type": "stream",
          "name": "stdout",
          "text": [
            "Enter the number of Fibonacci terms to generate: 5\n",
            "Fibonacci Series:\n",
            "[0, 1, 1, 2, 3]\n"
          ]
        }
      ]
    },
    {
      "cell_type": "code",
      "source": [
        "def fibonacci(num):\n",
        "  if num == 0:\n",
        "    return []\n",
        "  elif num ==1:\n",
        "    return [0]\n",
        "  elif num == 2:\n",
        "    return [0,1]\n",
        "  else:\n",
        "    series = fibonacci(num-1)\n",
        "    series.append(series[-2]+ series[-1])\n",
        "    return series\n",
        "\n",
        "fibonacci(8)"
      ],
      "metadata": {
        "colab": {
          "base_uri": "https://localhost:8080/"
        },
        "id": "6U8WSwbnkYMA",
        "outputId": "c39f31de-6ce5-47f1-c15a-444c26037e46"
      },
      "execution_count": 25,
      "outputs": [
        {
          "output_type": "execute_result",
          "data": {
            "text/plain": [
              "[0, 1, 1, 2, 3, 5, 8, 13]"
            ]
          },
          "metadata": {},
          "execution_count": 25
        }
      ]
    },
    {
      "cell_type": "code",
      "source": [
        "# write a program to display sum of natural numbers\n",
        "#sum_of_numbers = (n * (n + 1)) // 2\n",
        "\n",
        "def add_nums(num):\n",
        "  return (num * (num + 1))//2\n",
        "\n",
        "num = int(input('Please Enter a number: ' ))\n",
        "if(num == 1):\n",
        "  print(num)\n",
        "elif (num<0):\n",
        "  print('it is not a Natural Numbers')\n",
        "else:\n",
        "  print(add_nums(num))"
      ],
      "metadata": {
        "colab": {
          "base_uri": "https://localhost:8080/"
        },
        "id": "D7TAH9jQlKK_",
        "outputId": "792bc24e-8e68-4dfc-e3e6-dd0f54f873d7"
      },
      "execution_count": 26,
      "outputs": [
        {
          "output_type": "stream",
          "name": "stdout",
          "text": [
            "Please Enter a number: 5\n",
            "15\n"
          ]
        }
      ]
    },
    {
      "cell_type": "code",
      "source": [
        "def add_num(num):\n",
        "  return (num*(num+1))//2\n",
        "\n",
        "num = int(input('please enter a number: '))\n",
        "\n",
        "if num ==1:\n",
        "  print(num)\n",
        "elif(num<0):\n",
        "  print(\"it's not a natural number\")\n",
        "else:\n",
        "  print(add_num(num))"
      ],
      "metadata": {
        "colab": {
          "base_uri": "https://localhost:8080/"
        },
        "id": "PbPJMSz_l0i9",
        "outputId": "abd8bfd8-97f5-4304-85de-80b1f45a4649"
      },
      "execution_count": 28,
      "outputs": [
        {
          "output_type": "stream",
          "name": "stdout",
          "text": [
            "please enter a number: 7\n",
            "28\n"
          ]
        }
      ]
    },
    {
      "cell_type": "code",
      "source": [
        "# write aprogram to make a simple calculator\n",
        "\n",
        "class calculator:\n",
        "  def add(self, a, b):\n",
        "    return a+b\n",
        "  def substract(self,a,b):\n",
        "    return a-b\n",
        "  def multiply(self,a, b):\n",
        "    return a*b\n",
        "  def devide(self,a, b):\n",
        "    return a/b\n",
        "\n",
        "\n",
        ""
      ],
      "metadata": {
        "id": "6BvHSCfZmfoI"
      },
      "execution_count": 32,
      "outputs": []
    },
    {
      "cell_type": "code",
      "source": [
        "a = calculator()"
      ],
      "metadata": {
        "id": "krv6BemrnfAN"
      },
      "execution_count": 33,
      "outputs": []
    },
    {
      "cell_type": "code",
      "source": [
        "a.add(6,8)"
      ],
      "metadata": {
        "colab": {
          "base_uri": "https://localhost:8080/"
        },
        "id": "C_kZFdXDnhQa",
        "outputId": "b1a05da0-b5c0-4086-c5b2-91c739021309"
      },
      "execution_count": 34,
      "outputs": [
        {
          "output_type": "execute_result",
          "data": {
            "text/plain": [
              "14"
            ]
          },
          "metadata": {},
          "execution_count": 34
        }
      ]
    },
    {
      "cell_type": "code",
      "source": [
        "num1 = int(input('Please enter 1st number: '))\n",
        "optr = input('Please enter operator: ')\n",
        "num2 = int(input('Please enter 2st number: '))\n",
        "\n",
        "if (optr == \"+\"):\n",
        "  cal= num1 + num2\n",
        "  print(\"Addition of the given numbers is: \", cal)\n",
        "elif(optr == \"-\"):\n",
        "  cal= num1 - num2\n",
        "  print(\"Substraction of the given numbers is: \", cal)\n",
        "elif(optr == \"*\"):\n",
        "  cal= num1 * num2\n",
        "  print(\"Multiplication of the given numbers is: \", cal)\n",
        "elif(optr == \"/\"):\n",
        "  cal= num1 / num2\n",
        "  print(\"Division of the given numbers is: \", cal)\n"
      ],
      "metadata": {
        "colab": {
          "base_uri": "https://localhost:8080/"
        },
        "id": "jKujcl0znkd7",
        "outputId": "a50a89cc-bd4b-4eb0-b276-2cb5272e397b"
      },
      "execution_count": 35,
      "outputs": [
        {
          "output_type": "stream",
          "name": "stdout",
          "text": [
            "Please enter 1st number: 4\n",
            "Please enter operator: +\n",
            "Please enter 2st number: 8\n",
            "Addition of the given numbers is:  12\n"
          ]
        }
      ]
    },
    {
      "cell_type": "code",
      "source": [],
      "metadata": {
        "id": "mkVlONMDoCJE"
      },
      "execution_count": null,
      "outputs": []
    }
  ]
}