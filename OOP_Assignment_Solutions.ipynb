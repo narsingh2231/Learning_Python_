{
  "nbformat": 4,
  "nbformat_minor": 0,
  "metadata": {
    "colab": {
      "provenance": [],
      "authorship_tag": "ABX9TyNGvQNa7n4duiWJ8GkhE5Ee",
      "include_colab_link": true
    },
    "kernelspec": {
      "name": "python3",
      "display_name": "Python 3"
    },
    "language_info": {
      "name": "python"
    }
  },
  "cells": [
    {
      "cell_type": "markdown",
      "metadata": {
        "id": "view-in-github",
        "colab_type": "text"
      },
      "source": [
        "<a href=\"https://colab.research.google.com/github/narsingh2231/Learning_Python_/blob/main/OOP_Assignment_Solutions.ipynb\" target=\"_parent\"><img src=\"https://colab.research.google.com/assets/colab-badge.svg\" alt=\"Open In Colab\"/></a>"
      ]
    },
    {
      "cell_type": "markdown",
      "source": [
        "1. Write a class called `BankAccount` that has the following:\n",
        "\n",
        "* A field called *`name`* that stores the name of the account holder.\n",
        "* A field called *`amount`* that stores the amount of money in the account.\n",
        "* A field called *`interest_rate`* that stores the account’s interest rate (as a percentage).\n",
        "* A constructor that just sets the values of the three fields above.\n",
        "* A method called `apply_interest()` that takes no arguments and applies the interest to the account. It should just modify the amount field and not return anything. For instance, if the account has \\$1000 in it and the interest rate is 3%, then the amount variable should be changed to \\$1030 (\\$1000 + 3% interest). Then test the class, by creating a new BankAccount object for a user named Juan De Hattatime who has \\$1000 at 3% interest. Then do the following:\n",
        "* Use the `apply_interest()` method to apply the interest to the account.\n",
        "* Print out how much money is now in the account after applying the interest.\n",
        "* Change the account’s interest rate to 2%.\n",
        "* Use the `apply_interest()` method to apply the interest to the account again.\n",
        "* Print out how much money is now in the account after applying the interest again.\n",
        "\n"
      ],
      "metadata": {
        "id": "w8yI1tEBw5I-"
      }
    },
    {
      "cell_type": "code",
      "source": [],
      "metadata": {
        "id": "LaRSs28-y7uN"
      },
      "execution_count": null,
      "outputs": []
    },
    {
      "cell_type": "markdown",
      "source": [
        " 2. Write a class called Item that represents an item for sale. It should have the following:\n",
        "* Fields representing the name and price of the item\n",
        "* A constructor that sets those fields,\n",
        "* A `__str__()` method that returns a string containing the item name and price, with the price formatted to exactly 2 decimal places Test the class by creating a new item object and printing it out\n",
        "      "
      ],
      "metadata": {
        "id": "blC4d6wbyuno"
      }
    },
    {
      "cell_type": "code",
      "source": [],
      "metadata": {
        "id": "4bM8BEVWxOhO"
      },
      "execution_count": null,
      "outputs": []
    },
    {
      "cell_type": "markdown",
      "source": [
        "3. Write a class called ***ShoppingCart*** that might be used in an online store. It should have the following:\n",
        "* A list of Item objects that represents the items in the shopping cart\n",
        "* A constructor that creates an empty list of items (the constructor should take no arguments except self)\n",
        "* A method called `add()` that takes a name and a price and adds an Item object with that name and price to the shopping cart\n",
        "* A method called `total()` that takes no arguments and returns the total cost of the items in the cart 34\n",
        "* A method called `remove_items()` that takes an item name (a string) and removes any Item objects with that name from the shopping cart. It shouldn’t return anything.\n",
        "* A `__str__()` method that returns a string containing info on all the items in the shopping cart Then test out the shopping cart as follows:\n",
        "  1.  create a shopping cart;\n",
        "  2.  add several items to it;\n",
        "  3. print the cart’s total cost (using the `total()` method);\n",
        "  4. remove one of the items `types(5)` print out the cart"
      ],
      "metadata": {
        "id": "UWUpVt4zzEi2"
      }
    },
    {
      "cell_type": "code",
      "source": [],
      "metadata": {
        "id": "o0lqQ0DY0DwJ"
      },
      "execution_count": null,
      "outputs": []
    },
    {
      "cell_type": "markdown",
      "source": [
        "\n",
        "4. Write a class called ***RestaurantCheck***. It should have the following:\n",
        "* Fields called `check_number`, `sales_tax_percent`, `subtotal`, `table_number`, and `server_name` representing an identification for the check, the bill without tax added, the sales tax percentage,the table number, and the name of the server.\n",
        "* A constructor that sets the values of all four fields\n",
        "* A method called `calculate_total` that takes no arguments `(besides self)` and returns the total bill including sales tax.\n",
        "* A method called `print_check` that writes to a file called `check###.txt`, where `###` is the check number and writes information about the check to that file, formatted like below:\n",
        "      Check Number: 443\n",
        "      Sales tax: 6.0%\n",
        "      Subtotal: $23.14\n",
        "      Total: $24.53\n",
        "      Table Number: 17\n",
        "      Server: Sonic the Hedgehog\n",
        "* Test the class by creating a RestaurantCheck object and calling the `print_check()` method"
      ],
      "metadata": {
        "id": "vm34tLY70P_Y"
      }
    },
    {
      "cell_type": "code",
      "source": [],
      "metadata": {
        "id": "XMugHBE101cQ"
      },
      "execution_count": null,
      "outputs": []
    },
    {
      "cell_type": "markdown",
      "source": [
        "5. Write a class called Ticket that has the following:\n",
        "* A field cost for the price of the ticket and a string field time for the start time of the event (assume times are in 24-hour format, like '18:35')\n",
        "* A constructor that sets those variables\n",
        "* A __str__() method that returns a string of the form `Ticket(<cost>, <time>)`, where 'cost' and 'time' are replaced with the values of the cost and time fields.\n",
        "* A method called `is_evening_time()` that returns True or False, depending on whether the time falls in the range from 18:00 to 23:59.\n",
        "* A method called `bulk_discount()` that takes an integer n and returns the discount for buying n tickets. There should be a 10% discount for buying 5 to 9 tickets, and a 20% discount for buying 10 or more. Otherwise, there is no discount. Return these percentages as integers.\n",
        "* Test the class by creating a Ticket item, printing it, calling the `is_evening_time()` method, and calling the `bulk_discount()` method"
      ],
      "metadata": {
        "id": "EK6_WevX04--"
      }
    },
    {
      "cell_type": "code",
      "source": [],
      "metadata": {
        "id": "uWmTRChg2kJx"
      },
      "execution_count": null,
      "outputs": []
    }
  ]
}