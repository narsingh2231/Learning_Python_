{
  "nbformat": 4,
  "nbformat_minor": 0,
  "metadata": {
    "colab": {
      "provenance": [],
      "authorship_tag": "ABX9TyM536s5Pj33P7tKBn+02zs/",
      "include_colab_link": true
    },
    "kernelspec": {
      "name": "python3",
      "display_name": "Python 3"
    },
    "language_info": {
      "name": "python"
    }
  },
  "cells": [
    {
      "cell_type": "markdown",
      "metadata": {
        "id": "view-in-github",
        "colab_type": "text"
      },
      "source": [
        "<a href=\"https://colab.research.google.com/github/narsingh2231/Learning_Python_/blob/main/15th_Jan_Class_OOP_assignment_Solution.ipynb\" target=\"_parent\"><img src=\"https://colab.research.google.com/assets/colab-badge.svg\" alt=\"Open In Colab\"/></a>"
      ]
    },
    {
      "cell_type": "markdown",
      "source": [
        "# Q1 : Create your own class to perform a list search operation"
      ],
      "metadata": {
        "id": "ZrWXGXsjQyA6"
      }
    },
    {
      "cell_type": "markdown",
      "source": [
        "### A. There are 15 types of list operations available:\n",
        " 1. append()\n",
        " 2. extend()\n",
        " 3. insert()\n",
        " 4. remove()\n",
        " 5. pop()\n",
        " 6. slice operation\n",
        " 7. reverse()\n",
        " 8. len()\n",
        " 9. min() & max()\n",
        " 10. count()\n",
        " 11. concatenate\n",
        " 12. multiply\n",
        " 13. index()\n",
        " 14. sort()\n",
        " 15. clear()"
      ],
      "metadata": {
        "id": "61YQ_JX2SjIy"
      }
    },
    {
      "cell_type": "code",
      "source": [
        "import logging\n",
        "logger = logging.getLogger('my_logger')\n",
        "logging.basicConfig(filename='text.log',filemode='a', format='%(name)s - %(levelname)s - %(message)s')\n"
      ],
      "metadata": {
        "id": "NrsNSv9BFsEA"
      },
      "execution_count": 6,
      "outputs": []
    },
    {
      "cell_type": "code",
      "source": [
        "class listops:\n",
        "\n",
        "  def listAppend(self, lst, element):\n",
        "    lst.append(element)\n",
        "    logging.info(\"Inside append method\")\n",
        "    return lst\n",
        "\n",
        "  def listExtend(self, lst, element):\n",
        "    lst.extend(element)\n",
        "    logging.info(\"Inside extend method\")\n",
        "    return lst\n",
        "\n",
        "  # def listInsert(self, lst, element, position):\n",
        "  #   try:\n",
        "  #     if(type(position)== int):\n",
        "  #       lst.insert(position, element)\n",
        "  #       logging.info(\"Inside insert method\")\n",
        "  #       return lst\n",
        "  #   except TypeError as e:\n",
        "  #     logging.ERROR(e)\n",
        "  #   else:\n",
        "  #     #print(\"Given position should be integer\")\n",
        "  #     logging.info(\"Given position should be integer\")\n",
        "\n",
        "  def listInsert(self, lst, element, position):\n",
        "    try:\n",
        "        if isinstance(position, int):\n",
        "            lst.insert(position, element)\n",
        "            logging.info(\"Inside insert method\")\n",
        "            return lst\n",
        "        else:\n",
        "            raise ValueError(\"Given position should be an integer\")\n",
        "    except Exception as e:\n",
        "        logging.error(str(e))\n",
        "        print(e)\n",
        "\n"
      ],
      "metadata": {
        "id": "s7lYJ5e8QwvL"
      },
      "execution_count": 7,
      "outputs": []
    },
    {
      "cell_type": "code",
      "source": [
        "a = listops()"
      ],
      "metadata": {
        "id": "IVKVyfgZUzUH"
      },
      "execution_count": 8,
      "outputs": []
    },
    {
      "cell_type": "code",
      "source": [
        "a.listInsert([5,6,7,\"Narsingh\"], \"Maurya\" , \"8\")"
      ],
      "metadata": {
        "colab": {
          "base_uri": "https://localhost:8080/"
        },
        "id": "lB-HR9P_Xw60",
        "outputId": "c4bda8f9-8acb-4f62-a8da-34674a96b4b4"
      },
      "execution_count": 9,
      "outputs": [
        {
          "output_type": "stream",
          "name": "stderr",
          "text": [
            "ERROR:root:Given position should be an integer\n"
          ]
        },
        {
          "output_type": "stream",
          "name": "stdout",
          "text": [
            "Given position should be an integer\n"
          ]
        }
      ]
    },
    {
      "cell_type": "code",
      "source": [
        "from pathlib import Path\n",
        "Path('text.log').read_text()"
      ],
      "metadata": {
        "id": "4DviG4OPlzYR"
      },
      "execution_count": null,
      "outputs": []
    },
    {
      "cell_type": "markdown",
      "source": [
        "# Q2 : create a class for dict new element addition"
      ],
      "metadata": {
        "id": "mHEv_Nkklz9O"
      }
    },
    {
      "cell_type": "code",
      "source": [
        "%%python\n",
        "import logging\n",
        "\n",
        "class DictAddition:\n",
        "\n",
        "  def __init__(self):\n",
        "\n",
        "\n",
        "    logging.basicConfig(filename= \"dictlog.log\", filemode= \"a\",\n",
        "                        level= logging.DEBUG, format=\"%(asctime)s %(levelname)s %(message)s\")\n",
        "    logging.info('This is a list operation class')\n",
        "    pass\n"
      ],
      "metadata": {
        "id": "d2c8ToR8mDLr"
      },
      "execution_count": null,
      "outputs": []
    },
    {
      "cell_type": "code",
      "source": [
        "b = DictAddition()"
      ],
      "metadata": {
        "id": "HPb9ru0ZqUxp"
      },
      "execution_count": null,
      "outputs": []
    },
    {
      "cell_type": "code",
      "source": [
        "from pathlib import Path\n",
        "print(Path('dictlog.log').read_text())"
      ],
      "metadata": {
        "id": "4vyF2hf4qg_p"
      },
      "execution_count": null,
      "outputs": []
    },
    {
      "cell_type": "code",
      "execution_count": null,
      "metadata": {
        "id": "nGZWwENpAiSV"
      },
      "outputs": [],
      "source": [
        "# q1 : Create your own class to perform a list search operation\n",
        "# q2 : create a class for dict new element addition\n",
        "# q3 : create a class for tuple data extraction operation\n",
        "# q4 : Create a class to implement all insert , update , delete operation for mysql\n",
        "# q5 : create a class to implement insert , uupdate and delete in monngo db\n",
        "# q6 : create a class to perform append and delete operation in a file and inherit it in child class\n",
        "# q7 : create a class to import a data into file from mongo db\n",
        "# q8 : Create a class to build a calculator funcnalities addition , subtraction , multiplication ,div , log , exponenet , power\n",
        "# q9 : create a class method to find a time and space complexity of any function\n",
        "# q10: create a class to do a bulk uplaod of a file in mysql\n",
        "# q11: give 10 different example of ploymorphism , encaptulation ,data  abstraction , overloading , ovverriding , multiple inheritance\n",
        "# q12: Try to explore a meaning of \"-> \" this sinnature in python\n",
        "# This is the python typing feature, which let you specify the return type of functions in python\n"
      ]
    },
    {
      "cell_type": "code",
      "source": [
        "import logging\n",
        "logging.basicConfig(filename=\"log_file_test.log\",\n",
        "                            filemode='a',\n",
        "                            format='%(asctime)s,%(msecs)d %(name)s %(levelname)s %(message)s',\n",
        "                            datefmt='%H:%M:%S',\n",
        "                            level=logging.DEBUG)\n",
        "\n",
        "logging.info(\"This is a test log ..\")"
      ],
      "metadata": {
        "id": "UE6Nk9yGqT3V"
      },
      "execution_count": 13,
      "outputs": []
    },
    {
      "cell_type": "code",
      "source": [
        "from pathlib import Path\n",
        "print(Path('log_file_test.log').read_text())"
      ],
      "metadata": {
        "colab": {
          "base_uri": "https://localhost:8080/",
          "height": 329
        },
        "id": "7DlQ3E1A7aKe",
        "outputId": "7c9ffa0c-25eb-4908-b87f-b8f42cfd3ce1"
      },
      "execution_count": 15,
      "outputs": [
        {
          "output_type": "error",
          "ename": "FileNotFoundError",
          "evalue": "ignored",
          "traceback": [
            "\u001b[0;31m---------------------------------------------------------------------------\u001b[0m",
            "\u001b[0;31mFileNotFoundError\u001b[0m                         Traceback (most recent call last)",
            "\u001b[0;32m<ipython-input-15-c8afdbda10ba>\u001b[0m in \u001b[0;36m<cell line: 2>\u001b[0;34m()\u001b[0m\n\u001b[1;32m      1\u001b[0m \u001b[0;32mfrom\u001b[0m \u001b[0mpathlib\u001b[0m \u001b[0;32mimport\u001b[0m \u001b[0mPath\u001b[0m\u001b[0;34m\u001b[0m\u001b[0;34m\u001b[0m\u001b[0m\n\u001b[0;32m----> 2\u001b[0;31m \u001b[0mprint\u001b[0m\u001b[0;34m(\u001b[0m\u001b[0mPath\u001b[0m\u001b[0;34m(\u001b[0m\u001b[0;34m'log_file_test.log'\u001b[0m\u001b[0;34m)\u001b[0m\u001b[0;34m.\u001b[0m\u001b[0mread_text\u001b[0m\u001b[0;34m(\u001b[0m\u001b[0;34m)\u001b[0m\u001b[0;34m)\u001b[0m\u001b[0;34m\u001b[0m\u001b[0;34m\u001b[0m\u001b[0m\n\u001b[0m",
            "\u001b[0;32m/usr/lib/python3.10/pathlib.py\u001b[0m in \u001b[0;36mread_text\u001b[0;34m(self, encoding, errors)\u001b[0m\n\u001b[1;32m   1132\u001b[0m         \"\"\"\n\u001b[1;32m   1133\u001b[0m         \u001b[0mencoding\u001b[0m \u001b[0;34m=\u001b[0m \u001b[0mio\u001b[0m\u001b[0;34m.\u001b[0m\u001b[0mtext_encoding\u001b[0m\u001b[0;34m(\u001b[0m\u001b[0mencoding\u001b[0m\u001b[0;34m)\u001b[0m\u001b[0;34m\u001b[0m\u001b[0;34m\u001b[0m\u001b[0m\n\u001b[0;32m-> 1134\u001b[0;31m         \u001b[0;32mwith\u001b[0m \u001b[0mself\u001b[0m\u001b[0;34m.\u001b[0m\u001b[0mopen\u001b[0m\u001b[0;34m(\u001b[0m\u001b[0mmode\u001b[0m\u001b[0;34m=\u001b[0m\u001b[0;34m'r'\u001b[0m\u001b[0;34m,\u001b[0m \u001b[0mencoding\u001b[0m\u001b[0;34m=\u001b[0m\u001b[0mencoding\u001b[0m\u001b[0;34m,\u001b[0m \u001b[0merrors\u001b[0m\u001b[0;34m=\u001b[0m\u001b[0merrors\u001b[0m\u001b[0;34m)\u001b[0m \u001b[0;32mas\u001b[0m \u001b[0mf\u001b[0m\u001b[0;34m:\u001b[0m\u001b[0;34m\u001b[0m\u001b[0;34m\u001b[0m\u001b[0m\n\u001b[0m\u001b[1;32m   1135\u001b[0m             \u001b[0;32mreturn\u001b[0m \u001b[0mf\u001b[0m\u001b[0;34m.\u001b[0m\u001b[0mread\u001b[0m\u001b[0;34m(\u001b[0m\u001b[0;34m)\u001b[0m\u001b[0;34m\u001b[0m\u001b[0;34m\u001b[0m\u001b[0m\n\u001b[1;32m   1136\u001b[0m \u001b[0;34m\u001b[0m\u001b[0m\n",
            "\u001b[0;32m/usr/lib/python3.10/pathlib.py\u001b[0m in \u001b[0;36mopen\u001b[0;34m(self, mode, buffering, encoding, errors, newline)\u001b[0m\n\u001b[1;32m   1117\u001b[0m         \u001b[0;32mif\u001b[0m \u001b[0;34m\"b\"\u001b[0m \u001b[0;32mnot\u001b[0m \u001b[0;32min\u001b[0m \u001b[0mmode\u001b[0m\u001b[0;34m:\u001b[0m\u001b[0;34m\u001b[0m\u001b[0;34m\u001b[0m\u001b[0m\n\u001b[1;32m   1118\u001b[0m             \u001b[0mencoding\u001b[0m \u001b[0;34m=\u001b[0m \u001b[0mio\u001b[0m\u001b[0;34m.\u001b[0m\u001b[0mtext_encoding\u001b[0m\u001b[0;34m(\u001b[0m\u001b[0mencoding\u001b[0m\u001b[0;34m)\u001b[0m\u001b[0;34m\u001b[0m\u001b[0;34m\u001b[0m\u001b[0m\n\u001b[0;32m-> 1119\u001b[0;31m         return self._accessor.open(self, mode, buffering, encoding, errors,\n\u001b[0m\u001b[1;32m   1120\u001b[0m                                    newline)\n\u001b[1;32m   1121\u001b[0m \u001b[0;34m\u001b[0m\u001b[0m\n",
            "\u001b[0;31mFileNotFoundError\u001b[0m: [Errno 2] No such file or directory: 'log_file_test.log'"
          ]
        }
      ]
    },
    {
      "cell_type": "code",
      "source": [],
      "metadata": {
        "id": "P0T4nUMi7e-o"
      },
      "execution_count": null,
      "outputs": []
    },
    {
      "cell_type": "markdown",
      "source": [
        " # Q12: Try to explore a meaning of \"-> \" this sinnature in python\n",
        "\n",
        " This is the python typing feature, which let you specify the return type of functions in python"
      ],
      "metadata": {
        "id": "SB2C15ZhNnHi"
      }
    },
    {
      "cell_type": "code",
      "source": [],
      "metadata": {
        "id": "-6gqBuAVNrJj"
      },
      "execution_count": null,
      "outputs": []
    }
  ]
}