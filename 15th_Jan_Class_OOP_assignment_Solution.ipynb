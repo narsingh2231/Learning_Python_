{
  "nbformat": 4,
  "nbformat_minor": 0,
  "metadata": {
    "colab": {
      "provenance": [],
      "authorship_tag": "ABX9TyNi1xozuuUzTEKWEDD6ssLq",
      "include_colab_link": true
    },
    "kernelspec": {
      "name": "python3",
      "display_name": "Python 3"
    },
    "language_info": {
      "name": "python"
    }
  },
  "cells": [
    {
      "cell_type": "markdown",
      "metadata": {
        "id": "view-in-github",
        "colab_type": "text"
      },
      "source": [
        "<a href=\"https://colab.research.google.com/github/narsingh2231/Learning_Python_/blob/main/15th_Jan_Class_OOP_assignment_Solution.ipynb\" target=\"_parent\"><img src=\"https://colab.research.google.com/assets/colab-badge.svg\" alt=\"Open In Colab\"/></a>"
      ]
    },
    {
      "cell_type": "markdown",
      "source": [
        "# Q1 : Create your own class to perform a list search operation"
      ],
      "metadata": {
        "id": "ZrWXGXsjQyA6"
      }
    },
    {
      "cell_type": "code",
      "source": [],
      "metadata": {
        "id": "s7lYJ5e8QwvL"
      },
      "execution_count": null,
      "outputs": []
    },
    {
      "cell_type": "code",
      "execution_count": null,
      "metadata": {
        "id": "nGZWwENpAiSV"
      },
      "outputs": [],
      "source": [
        "q1 : Create your own class to perform a list search operation\n",
        "q2 : create a class for dict new element addition\n",
        "q3 : create a class for tuple data extraction operation\n",
        "q4 : Create a class to implement all insert , update , delete operation for mysql\n",
        "q5 : create a class to implement insert , uupdate and delete in monngo db\n",
        "q6 : create a class to perform append and delete operation in a file and inherit it in child class\n",
        "q7 : create a class to import a data into file from mongo db\n",
        "q8 : Create a class to build a calculator funcnalities addition , subtraction , multiplication ,div , log , exponenet , power\n",
        "q9 : create a class method to find a time and space complexity of any function\n",
        "q10: create a class to do a bulk uplaod of a file in mysql\n",
        "q11: give 10 different example of ploymorphism , encaptulation ,data  abstraction , overloading , ovverriding , multiple inheritance\n",
        "q12: Try to explore a meaning of \"-> \" this sinnature in python\n"
      ]
    }
  ]
}