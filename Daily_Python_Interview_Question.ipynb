{
  "nbformat": 4,
  "nbformat_minor": 0,
  "metadata": {
    "colab": {
      "provenance": [],
      "authorship_tag": "ABX9TyM7fggfHr1OrZcxoJLTKJdf",
      "include_colab_link": true
    },
    "kernelspec": {
      "name": "python3",
      "display_name": "Python 3"
    },
    "language_info": {
      "name": "python"
    }
  },
  "cells": [
    {
      "cell_type": "markdown",
      "metadata": {
        "id": "view-in-github",
        "colab_type": "text"
      },
      "source": [
        "<a href=\"https://colab.research.google.com/github/narsingh2231/Learning_Python_/blob/main/Daily_Python_Interview_Question.ipynb\" target=\"_parent\"><img src=\"https://colab.research.google.com/assets/colab-badge.svg\" alt=\"Open In Colab\"/></a>"
      ]
    },
    {
      "cell_type": "markdown",
      "source": [
        "### 25 October 2023\n",
        "#### Write a function to return a number is prime number or not"
      ],
      "metadata": {
        "id": "Up0_86slx1Cv"
      }
    },
    {
      "cell_type": "code",
      "source": [
        "def check_prime(num):\n",
        "  if (num in [2,3,5,7]):\n",
        "    print('This is a prime number')\n",
        "  elif (num % 2!=0 and num % 3!=0 and num % 5 !=0 and num % 7!=0):\n",
        "    print('This is a prime number')\n",
        "  else:\n",
        "    print('This is not a prime number')"
      ],
      "metadata": {
        "id": "aR8AmVrPx2po"
      },
      "execution_count": 10,
      "outputs": []
    },
    {
      "cell_type": "code",
      "source": [
        "check_prime(11)"
      ],
      "metadata": {
        "colab": {
          "base_uri": "https://localhost:8080/"
        },
        "id": "zkkgBVURzG8_",
        "outputId": "e8875790-ba43-409a-9908-c52b0d7817b5"
      },
      "execution_count": 16,
      "outputs": [
        {
          "output_type": "stream",
          "name": "stdout",
          "text": [
            "This is a prime number\n"
          ]
        }
      ]
    }
  ]
}