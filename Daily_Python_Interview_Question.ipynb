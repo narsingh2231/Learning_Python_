{
  "nbformat": 4,
  "nbformat_minor": 0,
  "metadata": {
    "colab": {
      "provenance": [],
      "authorship_tag": "ABX9TyN8l77K5+sFAcFQCVKN/Nmr",
      "include_colab_link": true
    },
    "kernelspec": {
      "name": "python3",
      "display_name": "Python 3"
    },
    "language_info": {
      "name": "python"
    }
  },
  "cells": [
    {
      "cell_type": "markdown",
      "metadata": {
        "id": "view-in-github",
        "colab_type": "text"
      },
      "source": [
        "<a href=\"https://colab.research.google.com/github/narsingh2231/Learning_Python_/blob/main/Daily_Python_Interview_Question.ipynb\" target=\"_parent\"><img src=\"https://colab.research.google.com/assets/colab-badge.svg\" alt=\"Open In Colab\"/></a>"
      ]
    },
    {
      "cell_type": "markdown",
      "source": [
        "### 25 October 2023\n",
        "#### Write a function to return a number is prime number or not"
      ],
      "metadata": {
        "id": "Up0_86slx1Cv"
      }
    },
    {
      "cell_type": "code",
      "source": [
        "def check_prime(num):\n",
        "  if (num in [2,3,5,7]):\n",
        "    print('This is a prime number')\n",
        "  elif (num % 2!=0 and num % 3!=0 and num % 5 !=0 and num % 7!=0):\n",
        "    print('This is a prime number')\n",
        "  else:\n",
        "    print('This is not a prime number')"
      ],
      "metadata": {
        "id": "aR8AmVrPx2po"
      },
      "execution_count": null,
      "outputs": []
    },
    {
      "cell_type": "code",
      "source": [
        "check_prime(11)"
      ],
      "metadata": {
        "colab": {
          "base_uri": "https://localhost:8080/"
        },
        "id": "zkkgBVURzG8_",
        "outputId": "e8875790-ba43-409a-9908-c52b0d7817b5"
      },
      "execution_count": null,
      "outputs": [
        {
          "output_type": "stream",
          "name": "stdout",
          "text": [
            "This is a prime number\n"
          ]
        }
      ]
    },
    {
      "cell_type": "markdown",
      "source": [
        "### 26 October\n",
        "- Write a function to return fibo series"
      ],
      "metadata": {
        "id": "NElQhKQMaEkK"
      }
    },
    {
      "cell_type": "code",
      "source": [
        "def get_fibo(num):\n",
        "  lst = [0,1]\n",
        "  if (num <= 2):\n",
        "    return lst\n",
        "  else:\n",
        "    for n in range(num-2):\n",
        "      lst.append((lst[-2]+lst[-1]))\n",
        "    return lst"
      ],
      "metadata": {
        "id": "3p20jf7IaF-T"
      },
      "execution_count": 1,
      "outputs": []
    },
    {
      "cell_type": "code",
      "source": [
        "get_fibo(7)"
      ],
      "metadata": {
        "colab": {
          "base_uri": "https://localhost:8080/"
        },
        "id": "6367Ciz5aJQa",
        "outputId": "30327d4f-bae5-4aff-bfaf-3d5cbc833c5a"
      },
      "execution_count": 3,
      "outputs": [
        {
          "output_type": "execute_result",
          "data": {
            "text/plain": [
              "[0, 1, 1, 2, 3, 5, 8]"
            ]
          },
          "metadata": {},
          "execution_count": 3
        }
      ]
    },
    {
      "cell_type": "code",
      "source": [],
      "metadata": {
        "id": "PEj9j3aPaLeV"
      },
      "execution_count": null,
      "outputs": []
    }
  ]
}